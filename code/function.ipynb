{
 "cells": [
  {
   "cell_type": "code",
   "execution_count": 7,
   "id": "cbc8bce5",
   "metadata": {},
   "outputs": [],
   "source": [
    "#ライブラリのインポート\n",
    "\n",
    "import pandas as pd\n",
    "import numpy as np\n",
    "import matplotlib.pyplot as plt\n",
    "from scipy import stats\n",
    "import seaborn as sns\n",
    "import random\n",
    "import copy\n",
    "from tqdm import tqdm\n",
    "import os\n",
    "import datetime\n",
    "import pytz\n",
    "from scipy.stats import entropy\n",
    "from polyagamma import random_polyagamma"
   ]
  },
  {
   "cell_type": "code",
   "execution_count": 8,
   "id": "3595153b",
   "metadata": {},
   "outputs": [],
   "source": [
    "# フォルダ生成用\n",
    "\n",
    "def make_now_dir(graph_path):\n",
    "  now = datetime.datetime.now(pytz.timezone('Asia/Tokyo')).strftime('%Y-%m-%d-%H%M')\n",
    "  gen_path = f'{graph_path}/{now}'\n",
    "  os.makedirs(gen_path)\n",
    "\n",
    "  return gen_path"
   ]
  },
  {
   "cell_type": "code",
   "execution_count": 9,
   "id": "c44c3af5",
   "metadata": {},
   "outputs": [],
   "source": [
    "# シグモイド関数\n",
    "\n",
    "def sigmoid(x, beta): #リスト\n",
    "\n",
    "    d_matirx = np.stack([np.ones(len(x)), x],axis=1)\n",
    "    input = np.dot(d_matirx, beta.T)\n",
    "\n",
    "    return 1/(1+np.exp(-input))"
   ]
  },
  {
   "cell_type": "code",
   "execution_count": 10,
   "id": "c4267456",
   "metadata": {},
   "outputs": [],
   "source": [
    "# データ生成関数\n",
    "# P(X)が正規分布\n",
    "\n",
    "def genarator_norm(X_mu, X_sigma, beta, sample_size):\n",
    "\n",
    "    # Xの生成\n",
    "\n",
    "    X_list = np.random.normal(loc = X_mu, scale = X_sigma , size = sample_size)\n",
    "\n",
    "    # pの生成\n",
    "\n",
    "    p_list = sigmoid(X_list, beta)\n",
    "\n",
    "    # Yの生成\n",
    "    Y_list = np.array([])\n",
    "    for i in range(sample_size):\n",
    "        Y_list = np.append(Y_list, stats.bernoulli.rvs(p=p_list[i], size=1)[0])\n",
    "    \n",
    "    # データフレームの作成\n",
    "\n",
    "    df = pd.DataFrame()\n",
    "    df[\"X\"] = X_list\n",
    "    df[\"Y\"] = Y_list\n",
    "\n",
    "    return df"
   ]
  },
  {
   "cell_type": "code",
   "execution_count": 11,
   "id": "0ab3e921",
   "metadata": {},
   "outputs": [],
   "source": [
    "# 任意の位置でサンプリングする関数\n",
    "\n",
    "def sampler(df,center,window):\n",
    "\n",
    "    lower = center-window\n",
    "    upper = center+window\n",
    "    df_sample = df.loc[(df[\"X\"]>lower) & (df[\"X\"]<upper)]\n",
    "    return df_sample"
   ]
  },
  {
   "cell_type": "code",
   "execution_count": 12,
   "id": "dc7abfc3",
   "metadata": {},
   "outputs": [],
   "source": [
    "#KLを計算する関数\n",
    "\n",
    "def KLD(p,q):\n",
    "\n",
    "    slf_ent = -1 * (q * np.log(q) + (1 - q) * np.log(1 - q))\n",
    "    crs_ent = -1 * (q * np.log(p) + (1 - q) * np.log(1 - p))\n",
    "\n",
    "    return crs_ent - slf_ent"
   ]
  },
  {
   "cell_type": "code",
   "execution_count": 13,
   "id": "51392128",
   "metadata": {},
   "outputs": [],
   "source": [
    "def sample_polya_gamma(df, prior_b0, prior_B0, burn, draw): #D^n(データフレーム)，Xの母平均(float),Xの母標準偏差(float)，βの事前平均(リスト)，βの事前分散共分散(行列)，バーンイン(int),希望サンプルサイズ(int)\n",
    "\n",
    "    # Nの決定\n",
    "    N = len(df)\n",
    "\n",
    "    # xiとyiの決定\n",
    "    X = np.stack([np.ones(len(df)), df[\"X\"]],axis=1)\n",
    "    Y = df[\"Y\"].values\n",
    "\n",
    "    # サンプリング格納用\n",
    "    beta_strage = np.array([])\n",
    "\n",
    "    # パラメータを初期化\n",
    "    par_beta = np.zeros(2)\n",
    "    par_w = np.zeros(2)\n",
    "    par_eta = np.dot(X, par_beta)\n",
    "\n",
    "    beta_strage = copy.deepcopy(par_beta)\n",
    "\n",
    "    # ループを回す\n",
    "    num = 1\n",
    "    \n",
    "    while num < burn+draw:\n",
    "\n",
    "        # PGからwをサンプリング\n",
    "        par_w = random_polyagamma(1, z = par_eta, size = (1, N))[0]\n",
    "\n",
    "        # betaのサンプリング\n",
    "        Z = (Y-0.5) / par_w\n",
    "        B_input = np.dot(X.T, np.diag(par_w))\n",
    "        B_input = np.dot(B_input, X)\n",
    "        B = np.linalg.inv(B_input+np.linalg.inv(prior_B0))\n",
    "        b_input_1 = np.dot(X.T, np.diag(par_w))\n",
    "        b_input_1 = np.dot(b_input_1, Z)\n",
    "        b_input_2 = np.dot(np.linalg.inv(prior_B0), prior_b0)\n",
    "        b = np.dot(B, b_input_1+b_input_2)\n",
    "\n",
    "        # パラメータの更新\n",
    "        par_beta = np.random.multivariate_normal(b, B, size=1)[0]\n",
    "        par_eta = np.dot(X, par_beta)\n",
    "\n",
    "        # パラメータの保存\n",
    "        beta_strage = np.vstack((beta_strage, par_beta))\n",
    "\n",
    "        num += 1\n",
    "  \n",
    "\n",
    "    return beta_strage[burn:]"
   ]
  },
  {
   "cell_type": "code",
   "execution_count": null,
   "id": "48789764",
   "metadata": {},
   "outputs": [],
   "source": []
  }
 ],
 "metadata": {
  "kernelspec": {
   "display_name": "Python 3 (ipykernel)",
   "language": "python",
   "name": "python3"
  },
  "language_info": {
   "codemirror_mode": {
    "name": "ipython",
    "version": 3
   },
   "file_extension": ".py",
   "mimetype": "text/x-python",
   "name": "python",
   "nbconvert_exporter": "python",
   "pygments_lexer": "ipython3",
   "version": "3.10.9"
  }
 },
 "nbformat": 4,
 "nbformat_minor": 5
}
